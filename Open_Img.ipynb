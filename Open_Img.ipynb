{
  "nbformat": 4,
  "nbformat_minor": 0,
  "metadata": {
    "colab": {
      "name": "Open_Img.ipynb",
      "provenance": [],
      "collapsed_sections": [],
      "toc_visible": true,
      "authorship_tag": "ABX9TyMffmiyIw5vHwMAbD9dyaBn",
      "include_colab_link": true
    },
    "kernelspec": {
      "name": "python3",
      "display_name": "Python 3"
    }
  },
  "cells": [
    {
      "cell_type": "markdown",
      "metadata": {
        "id": "view-in-github",
        "colab_type": "text"
      },
      "source": [
        "<a href=\"https://colab.research.google.com/github/micky-bank/img_process/blob/master/Open_Img.ipynb\" target=\"_parent\"><img src=\"https://colab.research.google.com/assets/colab-badge.svg\" alt=\"Open In Colab\"/></a>"
      ]
    },
    {
      "cell_type": "markdown",
      "metadata": {
        "id": "7Xe3hrtJado0",
        "colab_type": "text"
      },
      "source": [
        "# Importing Libraries"
      ]
    },
    {
      "cell_type": "code",
      "metadata": {
        "id": "gozR6v5yQZK4",
        "colab_type": "code",
        "colab": {}
      },
      "source": [
        "from PIL import Image as InImg\n",
        "import cv2 as cv\n",
        "import numpy as np\n",
        "# import platform\n",
        "# print (platform.python_version())"
      ],
      "execution_count": null,
      "outputs": []
    },
    {
      "cell_type": "markdown",
      "metadata": {
        "id": "csE_-3Lj22pp",
        "colab_type": "text"
      },
      "source": [
        "# Common Functions"
      ]
    },
    {
      "cell_type": "markdown",
      "metadata": {
        "id": "SQQy3P0JjTp2",
        "colab_type": "text"
      },
      "source": [
        "To Open Image"
      ]
    },
    {
      "cell_type": "code",
      "metadata": {
        "id": "9L1lHj5Iboe9",
        "colab_type": "code",
        "colab": {}
      },
      "source": [
        "def open_img (Img_Path = \"Image_In.jpg\") :\n",
        "  inp = cv.imread (Img_Path)\n",
        "  inp_gray = cv.cvtColor(inp, cv.COLOR_BGR2GRAY)\n",
        "  print (\"{} was opened.\" .format (Img_Path))\n",
        "  return (inp_gray)\n"
      ],
      "execution_count": null,
      "outputs": []
    },
    {
      "cell_type": "markdown",
      "metadata": {
        "id": "18r6PPMj2_SD",
        "colab_type": "text"
      },
      "source": [
        "To Get Image Dimensions"
      ]
    },
    {
      "cell_type": "code",
      "metadata": {
        "id": "Q3-TMrVv2zL3",
        "colab_type": "code",
        "colab": {}
      },
      "source": [
        "def get_img_dim (img_in) :\n",
        "  img_h_w = img_in.shape\n",
        "  print (\"Image Height is : {} and Width is : {}\" .format (img_h_w [0], img_h_w [1]))\n",
        "  print (img_h_w)\n",
        "  return (img_h_w)"
      ],
      "execution_count": null,
      "outputs": []
    },
    {
      "cell_type": "code",
      "metadata": {
        "id": "W-xzviclj12Q",
        "colab_type": "code",
        "colab": {}
      },
      "source": [
        "def write_img2file (img_in, img_h, img_w, wr_file_path = \"Input_Img.csv\") :\n",
        "  inp_file = open (wr_file_path, \"w\")\n",
        "  for m in range (img_h) :\n",
        "    for n in range (img_w) :\n",
        "      wr_img_str = [(str (img_in [m][n])), \"\\n\"]\n",
        "      # inp_file.write ((str (inp_gray [m][n])) \"\\n\")\n",
        "      inp_file.writelines (wr_img_str)\n",
        "  inp_file.close()"
      ],
      "execution_count": null,
      "outputs": []
    },
    {
      "cell_type": "markdown",
      "metadata": {
        "id": "1YpBlmIH0uIB",
        "colab_type": "text"
      },
      "source": [
        "Open Image and Get Dimensions"
      ]
    },
    {
      "cell_type": "code",
      "metadata": {
        "id": "LGua6X980xIT",
        "colab_type": "code",
        "colab": {
          "base_uri": "https://localhost:8080/",
          "height": 69
        },
        "outputId": "5db105e0-292f-4137-db06-0013ee4aa201"
      },
      "source": [
        "img_data = open_img (\"Image_In.jpg\")\n",
        "img_dim  = get_img_dim (img_data)\n",
        "img_h    = img_dim [0]\n",
        "img_w    = img_dim [1]"
      ],
      "execution_count": null,
      "outputs": [
        {
          "output_type": "stream",
          "text": [
            "Image_In.jpg was opened.\n",
            "Image Height is : 235 and Width is : 233\n",
            "(235, 233)\n"
          ],
          "name": "stdout"
        }
      ]
    },
    {
      "cell_type": "markdown",
      "metadata": {
        "id": "y7QREQbC4_tz",
        "colab_type": "text"
      },
      "source": [
        "Writing Input Image Data to csv file"
      ]
    },
    {
      "cell_type": "code",
      "metadata": {
        "id": "WoLTx_X_5CvO",
        "colab_type": "code",
        "colab": {}
      },
      "source": [
        "write_img2file (img_data, img_h, img_w, \"Input_Img.csv\")"
      ],
      "execution_count": null,
      "outputs": []
    }
  ]
}